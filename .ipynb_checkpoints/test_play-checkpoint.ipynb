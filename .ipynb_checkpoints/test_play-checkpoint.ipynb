{
 "cells": [
  {
   "cell_type": "code",
   "execution_count": 6,
   "metadata": {},
   "outputs": [],
   "source": [
    "import pandas as pd\n",
    "import os\n",
    "import re\n",
    "import nltk\n",
    "from sklearn.model_selection import train_test_split\n",
    "from sklearn.feature_extraction.text import TfidfVectorizer"
   ]
  },
  {
   "cell_type": "code",
   "execution_count": 7,
   "metadata": {},
   "outputs": [
    {
     "name": "stderr",
     "output_type": "stream",
     "text": [
      "[nltk_data] Downloading package punkt to /home/bjit/nltk_data...\n",
      "[nltk_data]   Package punkt is already up-to-date!\n"
     ]
    },
    {
     "data": {
      "text/plain": [
       "True"
      ]
     },
     "execution_count": 7,
     "metadata": {},
     "output_type": "execute_result"
    }
   ],
   "source": [
    "nltk.download('punkt')"
   ]
  },
  {
   "cell_type": "code",
   "execution_count": 8,
   "metadata": {},
   "outputs": [
    {
     "data": {
      "text/plain": [
       "'/home/bjit/testing_work'"
      ]
     },
     "execution_count": 8,
     "metadata": {},
     "output_type": "execute_result"
    }
   ],
   "source": [
    "pwd"
   ]
  },
  {
   "cell_type": "code",
   "execution_count": 11,
   "metadata": {},
   "outputs": [
    {
     "name": "stdout",
     "output_type": "stream",
     "text": [
      "[('I', 'eat'), ('eat', 'rice')]\n"
     ]
    }
   ],
   "source": [
    "from nltk.util import ngrams\n",
    "from nltk.tokenize import word_tokenize\n",
    "tokens = nltk.word_tokenize(\"I eat rice\")\n",
    "grams = ngrams(tokens,2)\n",
    "print(list(grams))\n"
   ]
  },
  {
   "cell_type": "code",
   "execution_count": 12,
   "metadata": {},
   "outputs": [
    {
     "ename": "SyntaxError",
     "evalue": "invalid syntax (<ipython-input-12-9b2f28fdbc24>, line 7)",
     "output_type": "error",
     "traceback": [
      "\u001b[0;36m  File \u001b[0;32m\"<ipython-input-12-9b2f28fdbc24>\"\u001b[0;36m, line \u001b[0;32m7\u001b[0m\n\u001b[0;31m    n_grams = ngrams(word_tokenize(text), n)\u001b[0m\n\u001b[0m          ^\u001b[0m\n\u001b[0;31mSyntaxError\u001b[0m\u001b[0;31m:\u001b[0m invalid syntax\n"
     ]
    }
   ],
   "source": [
    "from nltk.tokenize import word_tokenize\n",
    "from nltk.util import ngrams\n",
    "\n",
    "def get_ngrams(text, n ):\n",
    "    text = re.split(r\"\\W+\",str(text))\n",
    "    print(\" \".join(text)\n",
    "    n_grams = ngrams(word_tokenize(text), n)\n",
    "    return [ ' '.join(grams) for grams in n_grams]"
   ]
  },
  {
   "cell_type": "code",
   "execution_count": 53,
   "metadata": {},
   "outputs": [],
   "source": [
    "from nltk.tokenize import word_tokenize\n",
    "from nltk.util import ngrams\n",
    "\n",
    "def get_ngrams(text, n ):\n",
    "    text = re.split(r\"\\W+\",str(text))\n",
    "    text = ' '.join(text)\n",
    "    print(text)\n",
    "    \n",
    "    n_grams = ngrams(word_tokenize(text), n)\n",
    "    return [ ' '.join(grams) for grams in n_grams]"
   ]
  },
  {
   "cell_type": "code",
   "execution_count": 54,
   "metadata": {},
   "outputs": [
    {
     "name": "stdout",
     "output_type": "stream",
     "text": [
      "www facebook com\n"
     ]
    }
   ],
   "source": [
    "result = get_ngrams(\"www.facebook.com\", 2 )"
   ]
  },
  {
   "cell_type": "code",
   "execution_count": 55,
   "metadata": {},
   "outputs": [
    {
     "data": {
      "text/plain": [
       "['www facebook', 'facebook com']"
      ]
     },
     "execution_count": 55,
     "metadata": {},
     "output_type": "execute_result"
    }
   ],
   "source": [
    "result"
   ]
  },
  {
   "cell_type": "code",
   "execution_count": null,
   "metadata": {},
   "outputs": [],
   "source": [
    "my_file = pd.read_csv(\"/home/bjit/testing_work/final__csv.csv\")\n",
    "print(my_file.head())"
   ]
  },
  {
   "cell_type": "code",
   "execution_count": null,
   "metadata": {},
   "outputs": [],
   "source": [
    "my_file['URL'] = my_file['URL'].str.lower()"
   ]
  },
  {
   "cell_type": "code",
   "execution_count": null,
   "metadata": {},
   "outputs": [],
   "source": [
    "def apply_cleaning_function_to_list(X):\n",
    "    cleaned_X = []\n",
    "    for element in X:\n",
    "        cleaned_X.append(clean_text(element,2))\n",
    "    return cleaned_X"
   ]
  },
  {
   "cell_type": "code",
   "execution_count": null,
   "metadata": {},
   "outputs": [],
   "source": [
    "from nltk.util import ngrams\n",
    "def clean_text(raw_text, n):\n",
    "    text = raw_text.lower()\n",
    "    tokens = re.split(r\"\\W+\",str(text))\n",
    "    tokens = ( \" \".join(tokens))\n",
    "    print(tokens)\n",
    "#     return tokens\n",
    "#     print(tokens)\n",
    "    if(len(tokens)<=n):\n",
    "        grams = ngrams(tokens,len(tokens))\n",
    "\n",
    "    else:\n",
    "        grams = ngrams(tokens,n)\n",
    "#         print(list(bigrams))\n",
    "#     print(list(grams))\n",
    "    return grams"
   ]
  },
  {
   "cell_type": "code",
   "execution_count": null,
   "metadata": {},
   "outputs": [],
   "source": [
    "# tokens = nltk.word_tokenize(\"http://www.sample.com/level1/level2/index.html?id=1234\")\n",
    "# print(tokens)"
   ]
  },
  {
   "cell_type": "code",
   "execution_count": null,
   "metadata": {},
   "outputs": [],
   "source": [
    "text_to_clean = list(my_file['URL'] )\n"
   ]
  },
  {
   "cell_type": "code",
   "execution_count": null,
   "metadata": {
    "scrolled": true
   },
   "outputs": [],
   "source": [
    "cleaned_text = apply_cleaning_function_to_list(text_to_clean)\n",
    "my_file[\"clean_URL\"] = cleaned_text\n",
    "# print(my_file[\"clean_URL\"].head())\n",
    "my_file['clean_URL']"
   ]
  },
  {
   "cell_type": "code",
   "execution_count": null,
   "metadata": {},
   "outputs": [],
   "source": [
    "my_file[['URL','clean_URL','Class']].tail()"
   ]
  },
  {
   "cell_type": "code",
   "execution_count": null,
   "metadata": {},
   "outputs": [],
   "source": []
  },
  {
   "cell_type": "code",
   "execution_count": null,
   "metadata": {},
   "outputs": [],
   "source": [
    "X_train, X_test, y_train, y_test = train_test_split(my_file['clean_URL'], \n",
    "                                                    my_file['Class'], \n",
    "                                                    test_size=0.20, \n",
    "                                                    random_state=8)"
   ]
  },
  {
   "cell_type": "code",
   "execution_count": null,
   "metadata": {},
   "outputs": [],
   "source": [
    "type(my_file['clean_URL'])"
   ]
  },
  {
   "cell_type": "code",
   "execution_count": null,
   "metadata": {},
   "outputs": [],
   "source": [
    "# ngram_range = (1,2)\n",
    "# # min_df = 10\n",
    "# # max_df = 1.\n",
    "# max_features = 500"
   ]
  },
  {
   "cell_type": "code",
   "execution_count": null,
   "metadata": {},
   "outputs": [],
   "source": [
    "# from sklearn.feature_extraction.text import TfidfVectorizer\n",
    "# tfidf = TfidfVectorizer(encoding='utf-8',\n",
    "#                         stop_words=None,\n",
    "#                         lowercase=False,\n",
    "#                         max_df=max_df,\n",
    "#                         min_df=min_df,\n",
    "#                         max_features=max_features,\n",
    "#                         norm='l2',\n",
    "#                         sublinear_tf=True,\n",
    "#                         analyzer='word')\n",
    "                    \n"
   ]
  },
  {
   "cell_type": "code",
   "execution_count": null,
   "metadata": {},
   "outputs": [],
   "source": [
    "tfidf = TfidfVectorizer(analyzer='word', token_pattern=r'\\w{1,}', max_features=5000,max_df = .90, ngram_range = (1,3))\n",
    "tfidf.fit(X_train)\n",
    "features_train =  tfidf.transform(X_train)\n",
    "labels_train = y_train\n",
    "\n",
    "tfidf.fit(X_test)\n",
    "features_test = tfidf.transform(X_test)\n",
    "\n",
    "labels_test = y_test\n",
    "# xvalid_tfidf =  tfidf_vect.transform(valid_x)\n",
    "features_test.data"
   ]
  },
  {
   "cell_type": "code",
   "execution_count": null,
   "metadata": {},
   "outputs": [],
   "source": [
    "from sklearn.naive_bayes import MultinomialNB \n",
    "model = MultinomialNB ()\n",
    "model.fit(features_train, labels_train)\n",
    "predictions = model.predict(features_test)"
   ]
  },
  {
   "cell_type": "code",
   "execution_count": null,
   "metadata": {},
   "outputs": [],
   "source": [
    "from sklearn.metrics import accuracy_score, precision_score, recall_score\n",
    "print(accuracy_score(labels_test, predictions))\n",
    "# print(‘Precision score: ‘, precision_score(y_test, predictions))\n",
    "# print(‘Recall score: ‘, recall_score(y_test, predictions))"
   ]
  },
  {
   "cell_type": "code",
   "execution_count": null,
   "metadata": {},
   "outputs": [],
   "source": [
    "pd.crosstab(labels_test , predictions)"
   ]
  },
  {
   "cell_type": "code",
   "execution_count": null,
   "metadata": {},
   "outputs": [],
   "source": []
  }
 ],
 "metadata": {
  "kernelspec": {
   "display_name": "my_venv",
   "language": "python",
   "name": "my_venv"
  },
  "language_info": {
   "codemirror_mode": {
    "name": "ipython",
    "version": 3
   },
   "file_extension": ".py",
   "mimetype": "text/x-python",
   "name": "python",
   "nbconvert_exporter": "python",
   "pygments_lexer": "ipython3",
   "version": "3.7.3"
  }
 },
 "nbformat": 4,
 "nbformat_minor": 2
}
