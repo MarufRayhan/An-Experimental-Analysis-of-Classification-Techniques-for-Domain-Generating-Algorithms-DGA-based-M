{
 "cells": [
  {
   "cell_type": "code",
   "execution_count": 3,
   "metadata": {},
   "outputs": [
    {
     "name": "stderr",
     "output_type": "stream",
     "text": [
      "[nltk_data] Downloading package punkt to /home/bjit/nltk_data...\n",
      "[nltk_data]   Package punkt is already up-to-date!\n",
      "[nltk_data] Downloading package punkt to /home/bjit/nltk_data...\n",
      "[nltk_data]   Package punkt is already up-to-date!\n"
     ]
    }
   ],
   "source": [
    "import pandas as pd\n",
    "import os\n",
    "import re\n",
    "import nltk\n",
    "from nltk.stem import PorterStemmer\n",
    "from sklearn.model_selection import train_test_split\n",
    "from sklearn.feature_extraction.text import TfidfVectorizer\n",
    "from sklearn.naive_bayes import MultinomialNB, BernoulliNB\n",
    "nltk.download('punkt')\n",
    "from sklearn import model_selection, preprocessing, linear_model, naive_bayes, metrics, svm\n",
    "from sklearn.svm import LinearSVC\n",
    "from sklearn.neighbors import KNeighborsClassifier\n",
    "from sklearn.ensemble import RandomForestClassifier\n",
    "from xgboost import XGBClassifier\n",
    "from sklearn.linear_model import SGDClassifier\n",
    "from datetime import datetime\n",
    "import pickle as pickle\n",
    "from sklearn.naive_bayes import BernoulliNB\n",
    "from sklearn.ensemble import BaggingClassifier,GradientBoostingClassifier\n",
    "from sklearn.ensemble import AdaBoostClassifier\n",
    "from sklearn.discriminant_analysis import LinearDiscriminantAnalysis\n",
    "from sklearn.tree import DecisionTreeClassifier\n",
    "from sklearn.neighbors import NearestCentroid\n",
    "from sklearn.svm import NuSVC\n",
    "from sklearn.neighbors import RadiusNeighborsClassifier\n",
    "from sklearn.metrics import accuracy_score, precision_score, recall_score,f1_score, classification_report,confusion_matrix\n",
    "import numpy as np\n",
    "from sklearn.model_selection import cross_val_score\n",
    "from ipynb.fs.full.accuracy_check import *\n",
    "import matplotlib.pyplot as plt\n",
    "import seaborn as sns\n",
    "from sklearn.metrics import log_loss"
   ]
  },
  {
   "cell_type": "code",
   "execution_count": 4,
   "metadata": {
    "colab": {},
    "colab_type": "code",
    "id": "IzVgLsFnR8zy"
   },
   "outputs": [],
   "source": [
    "def get_ngrams(text,n):\n",
    "    '''\n",
    "        function for tokenization\n",
    "    '''\n",
    "    text = re.split(r\"\\W+\",str(text))\n",
    "    text = \" \".join(text)\n",
    "    tokens = nltk.word_tokenize(text)\n",
    "    joined_text = \" \".join(tokens)\n",
    "    return joined_text"
   ]
  },
  {
   "cell_type": "code",
   "execution_count": 5,
   "metadata": {
    "colab": {},
    "colab_type": "code",
    "id": "FIZ1wzEDR8z7"
   },
   "outputs": [],
   "source": [
    "def apply_cleaning_function_to_list(X):\n",
    "    '''\n",
    "        apply clean data\n",
    "    '''\n",
    "    cleaned_X = []\n",
    "    for element in X:\n",
    "        cleaned_X.append(get_ngrams(element,1))\n",
    "    return cleaned_X"
   ]
  },
  {
   "cell_type": "code",
   "execution_count": 6,
   "metadata": {
    "colab": {},
    "colab_type": "code",
    "id": "pYWEdM4kR80E"
   },
   "outputs": [],
   "source": [
    "def get_data(data_path=\"final__csv.csv\"):\n",
    "    '''\n",
    "        import dataset\n",
    "    '''\n",
    "    my_file = pd.read_csv(data_path)\n",
    "    my_file = my_file.sample(frac=1)\n",
    "    my_file['URL'] = my_file['URL'].str.lower()\n",
    "    print(my_file.head())\n",
    "    my_file['clean_url'] = apply_cleaning_function_to_list(my_file['URL'])\n",
    "    return my_file['URL'], my_file['clean_url'], my_file['Class']"
   ]
  },
  {
   "cell_type": "code",
   "execution_count": 7,
   "metadata": {
    "colab": {},
    "colab_type": "code",
    "id": "3P69rnn7R80P"
   },
   "outputs": [],
   "source": [
    "def get_train_test_data(cleaned_url, classes):\n",
    "    '''\n",
    "        train and test set split\n",
    "    '''\n",
    "    X_train, X_test, y_train, y_test = train_test_split(cleaned_url, classes, test_size=0.20, stratify = classes)\n",
    "    return X_train, X_test, y_train, y_test"
   ]
  },
  {
   "cell_type": "code",
   "execution_count": 8,
   "metadata": {
    "colab": {},
    "colab_type": "code",
    "id": "0Fc2tFzkR80e"
   },
   "outputs": [],
   "source": [
    "def get_train_valid_data(X_train, y_train):\n",
    "     '''\n",
    "        train and validation set split\n",
    "    '''\n",
    "    X_train, X_valid, y_train, y_valid = train_test_split(X_train, \n",
    "                                                    y_train, \n",
    "                                                    test_size=0.10, stratify = y_train)\n",
    "    return X_train, X_valid, y_train, y_valid"
   ]
  },
  {
   "cell_type": "code",
   "execution_count": 9,
   "metadata": {
    "colab": {},
    "colab_type": "code",
    "id": "CoCGQBnIR80l"
   },
   "outputs": [],
   "source": [
    "def save_all_feature_data(path, data):\n",
    "     '''\n",
    "        save features in pickle file\n",
    "    '''\n",
    "    os.makedirs(os.path.dirname(path), exist_ok=True)\n",
    "    with open(path, 'wb') as output:\n",
    "        pickle.dump(data, output)"
   ]
  },
  {
   "cell_type": "code",
   "execution_count": 10,
   "metadata": {
    "colab": {},
    "colab_type": "code",
    "id": "fTJrtELmR80t"
   },
   "outputs": [],
   "source": [
    "def feature_extraction_using_tfidf(X_train, y_train, X_valid, y_valid,X_test,n1,n2):\n",
    "    '''\n",
    "        tf idf feature extraction with n gram range\n",
    "    '''\n",
    "    tfidf = TfidfVectorizer(analyzer='word', token_pattern=r'\\w{1,}', ngram_range=(1,1))\n",
    "    tfidf.fit(X_train)\n",
    "    features_train =  tfidf.transform(X_train)\n",
    "    labels_train = y_train\n",
    "    features_test = tfidf.transform(X_valid)\n",
    "    labels_test = y_valid\n",
    "    X_test = tfidf.transform(X_test)\n",
    "    \n",
    "    # current date and time\n",
    "    now = datetime.now()\n",
    "\n",
    "    timestamp = datetime.timestamp(now)\n",
    "    print(\"timestamp =\", timestamp)\n",
    "    \n",
    "    features_train_data_path = 'Pickles/features_train_'+str(timestamp).replace(\".\", \"_\")+'.pickle'\n",
    "    save_all_feature_data(features_train_data_path, features_train)\n",
    "    \n",
    "    features_test_data_path = 'Pickles/features_test_'+str(timestamp)+'.pickle'\n",
    "    save_all_feature_data(features_test_data_path, features_test)\n",
    "    \n",
    "    labels_train_data_path = 'Pickles/labels_train_'+str(timestamp)+'.pickle'\n",
    "    save_all_feature_data(labels_train_data_path, labels_train)\n",
    "    \n",
    "    labels_test_data_path = 'Pickles/labels_test_'+str(timestamp)+'.pickle'\n",
    "    save_all_feature_data(labels_test_data_path, labels_test)\n",
    "    \n",
    "    return features_train, features_test, labels_train, labels_test, X_test\n"
   ]
  },
  {
   "cell_type": "code",
   "execution_count": 11,
   "metadata": {
    "colab": {},
    "colab_type": "code",
    "id": "RAe7FLcFR803"
   },
   "outputs": [],
   "source": [
    "def fit_model(model, features_train, features_test, y_train,X_test):\n",
    "    '''\n",
    "        function to fit the model\n",
    "        \n",
    "    '''\n",
    "    fitted_model = model.fit(features_train, y_train)\n",
    "    predictions = model.predict(features_test)\n",
    "    predictions_test = model.predict(X_test)\n",
    "    return predictions, fitted_model, predictions_test"
   ]
  },
  {
   "cell_type": "code",
   "execution_count": 12,
   "metadata": {
    "colab": {},
    "colab_type": "code",
    "id": "6-SxKQAPR809"
   },
   "outputs": [],
   "source": [
    "def get_predictions(model_name, features_train, features_test, y_train, X_test, algorithm='SAMME.R',n_estimators=50,learning_rate=1.0):\n",
    "    '''\n",
    "        All ML clasification model \n",
    "    '''\n",
    "    if model_name == \"LogisticRegression\":\n",
    "        model = linear_model.LogisticRegression()\n",
    "        return fit_model(model, features_train, features_test, y_train, X_test)\n",
    "    if model_name == \"MultinomialNB\":\n",
    "        model = MultinomialNB()\n",
    "        return fit_model(model, features_train, features_test, y_train,X_test)\n",
    "    if model_name == \"BernoulliNB\":\n",
    "        model = BernoulliNB()\n",
    "        return fit_model(model, features_train, features_test, y_train,X_test)\n",
    "    if model_name == \"SVC\":\n",
    "        model = svm.SVC()\n",
    "        return fit_model(model, features_train, features_test, y_train,X_test)\n",
    "    if model_name == \"LinearSVC\":\n",
    "        model = LinearSVC()\n",
    "        return fit_model(model, features_train, features_test, y_train,X_test)\n",
    "    if model_name == \"KNeighborsClassifier\":\n",
    "        model = KNeighborsClassifier(n_neighbors = 7)\n",
    "        return fit_model(model, features_train, features_test, y_train,X_test)\n",
    "    if model_name == \"RandomForestClassifier\":\n",
    "        model = RandomForestClassifier()\n",
    "        return fit_model(model, features_train, features_test, y_train,X_test)\n",
    "    if model_name == \"XGBClassifier\":\n",
    "        model = XGBClassifier()\n",
    "        return fit_model(model, features_train, features_test, y_train,X_test)\n",
    "    if model_name == \"SGDClassifier\":\n",
    "        model = SGDClassifier()\n",
    "        return fit_model(model, features_train, features_test, y_train,X_test)\n",
    "    if model_name == \"Baggingclassifier\":\n",
    "        model = BaggingClassifier(base_estimator=None)\n",
    "        return fit_model(model, features_train, features_test, y_train,X_test)\n",
    "    if model_name == \"Adaboostclassifier\":\n",
    "        model = AdaBoostClassifier(algorithm=algorithm,n_estimators=n_estimators, learning_rate=learning_rate)\n",
    "        return fit_model(model, features_train, features_test, y_train,X_test)\n",
    "    if model_name == \"GradientBoostingClassifier\":\n",
    "        model = GradientBoostingClassifier()\n",
    "        return fit_model(model, features_train, features_test, y_train,X_test)\n",
    "    if model_name == \"DecisionTreeClassifier\":\n",
    "        model = DecisionTreeClassifier(criterion=\"gini\",random_state=0)\n",
    "        return fit_model(model, features_train, features_test, y_train,X_test)\n",
    "    if model_name == \"NearestCentroid\":\n",
    "        model = NearestCentroid()\n",
    "        return fit_model(model, features_train, features_test, y_train,X_test)\n",
    "    if model_name == \"NuSVC\":\n",
    "        model = NuSVC()\n",
    "        return fit_model(model, features_train, features_test, y_train,X_test)\n",
    "    if model == \"All\":\n",
    "        return get_LogisticRegression_predictions()"
   ]
  },
  {
   "cell_type": "code",
   "execution_count": 13,
   "metadata": {
    "colab": {},
    "colab_type": "code",
    "id": "-8p7w5PeR81F"
   },
   "outputs": [],
   "source": [
    "def get_result(predictions, y_valid):\n",
    "    '''\n",
    "        get the result\n",
    "    '''\n",
    "    print('Accuracy: ',accuracy_score(labels_test, predictions))\n",
    "    print('Precision score: ', precision_score(y_valid, predictions))\n",
    "    print('Recall score: ', recall_score(y_valid, predictions))\n",
    "    print('f1 score: ',  f1_score(y_valid, predictions))"
   ]
  },
  {
   "cell_type": "code",
   "execution_count": 15,
   "metadata": {
    "colab": {},
    "colab_type": "code",
    "id": "UhkYZdmhR81M"
   },
   "outputs": [],
   "source": [
    "def get_result_using_cv(model, features_train, y_train, labels_test, predictions, cv=3):\n",
    "    '''\n",
    "        k fold cross validation\n",
    "    '''\n",
    "    lr_tfidf_cv_scores = cross_val_score(model, features_train, y_train, cv=cv)\n",
    "    lr_tfidf_cv_mean_score = np.mean(lr_tfidf_cv_scores)\n",
    "    print('CV Accuracy (3-fold):', lr_tfidf_cv_scores)\n",
    "    print('Mean CV Accuracy:', lr_tfidf_cv_mean_score)\n",
    "    lr_tfidf_test_score = model.score(features_train, y_train)\n",
    "    print('Train Accuracy:', lr_tfidf_test_score)\n",
    "    print('Accuracy: ',metrics.accuracy_score(labels_test, predictions))"
   ]
  },
  {
   "cell_type": "code",
   "execution_count": 16,
   "metadata": {
    "colab": {},
    "colab_type": "code",
    "id": "78DcTV78R81X",
    "outputId": "1ca7c4f9-8539-405a-8947-9aa51d79516e"
   },
   "outputs": [
    {
     "name": "stdout",
     "output_type": "stream",
     "text": [
      "                    URL                 Family  Class\n",
      "21613       pzfpdsn.com  pykspa2s_dga_5649766d      1\n",
      "36426      cbyhyjal.top   vawtrak_dga_54890be8      1\n",
      "47066  canon-europe.com                   Good      0\n",
      "39081     xxb01f31c1.fr     xxhex_dga_193b9c09      1\n",
      "78508         ensia.com                   Good      0\n",
      "timestamp = 1597088067.739558\n",
      "Accuracy:  0.6455875412930627\n",
      "Precision score:  0.952\n",
      "Recall score:  0.30155210643015523\n",
      "f1 score:  0.45802261246090936\n",
      "+++++++++++++++++++++++++++++++++\n"
     ]
    }
   ],
   "source": [
    "n1 = 2\n",
    "n2 = 2\n",
    "model_name = \"KNeighborsClassifier\"\n",
    "url, cleaned_url, classes = get_data()\n",
    "X_train, X_test, y_train, y_test = get_train_test_data(cleaned_url, classes)\n",
    "X_train, X_valid, y_train, y_valid = get_train_valid_data(X_train, y_train)\n",
    "features_train, features_test, labels_train, labels_test, X_test = feature_extraction_using_tfidf(X_train, y_train, X_valid, y_valid,X_test,n1,n2)\n",
    "predictions, fitted_model ,predictions_test = get_predictions(model_name, features_train, features_test, y_train,X_test)\n",
    "# get_test_result(predictions_test,y_test)\n",
    "get_result(predictions, y_valid)\n",
    "print(\"+++++++++++++++++++++++++++++++++\")\n",
    "# get_result_using_cv(fitted_model, features_train, y_train, labels_test, predictions, cv=3)"
   ]
  },
  {
   "cell_type": "code",
   "execution_count": 17,
   "metadata": {},
   "outputs": [
    {
     "name": "stdout",
     "output_type": "stream",
     "text": [
      "Accuracy:  0.6455875412930627\n",
      "Precision score:  0.952\n",
      "Recall score:  0.30155210643015523\n",
      "f1 score:  0.45802261246090936\n",
      "None\n"
     ]
    }
   ],
   "source": [
    "print(get_test_result(predictions, y_valid))"
   ]
  },
  {
   "cell_type": "code",
   "execution_count": 18,
   "metadata": {},
   "outputs": [
    {
     "name": "stdout",
     "output_type": "stream",
     "text": [
      "[0.6427560169891459, 0.5932043416705993, 0.6219915054270883, 0.5944627969167846, 0.6234072675790467, 0.6174296051596665, 0.6455875412930627, 0.6424414031775995, 0.6795658329400661]\n"
     ]
    }
   ],
   "source": [
    "# try K=1 through K=25 and record testing accuracy\n",
    "k_range = range(1, 10)\n",
    "\n",
    "# We can create Python dictionary using [] or dict()\n",
    "scores = []\n",
    "\n",
    "# We use a loop through the range 1 to 26\n",
    "# We append the scores in the dictionary\n",
    "for k in k_range:\n",
    "    model = KNeighborsClassifier(n_neighbors=k)\n",
    "    fitted_model = model.fit(features_train, y_train)\n",
    "    predictions = model.predict(features_test)\n",
    "    scores.append(metrics.accuracy_score(labels_test, predictions))\n",
    "\n",
    "print(scores)"
   ]
  },
  {
   "cell_type": "code",
   "execution_count": 19,
   "metadata": {},
   "outputs": [
    {
     "data": {
      "text/plain": [
       "Text(0, 0.5, 'Testing Accuracy')"
      ]
     },
     "execution_count": 19,
     "metadata": {},
     "output_type": "execute_result"
    },
    {
     "data": {
      "image/png": "[encoded data removed]",
      "text/plain": [
       "<Figure size 432x288 with 1 Axes>"
      ]
     },
     "metadata": {
      "needs_background": "light"
     },
     "output_type": "display_data"
    }
   ],
   "source": [
    "# import Matplotlib (scientific plotting library)\n",
    "import matplotlib.pyplot as plt\n",
    "\n",
    "# allow plots to appear within the notebook\n",
    "%matplotlib inline\n",
    "\n",
    "# plot the relationship between K and testing accuracy\n",
    "# plt.plot(x_axis, y_axis)\n",
    "plt.plot(k_range, scores)\n",
    "plt.xlabel('Value of K for KNN')\n",
    "plt.ylabel('Testing Accuracy')"
   ]
  },
  {
   "cell_type": "code",
   "execution_count": 20,
   "metadata": {},
   "outputs": [],
   "source": [
    "evaluation, cls_report, crosstab= accuracy_chk(labels_train,features_train,labels_test,predictions,fitted_model,model_name,n1,n2)"
   ]
  },
  {
   "cell_type": "code",
   "execution_count": 21,
   "metadata": {},
   "outputs": [
    {
     "data": {
      "text/plain": [
       "{'Model name': 'KNeighborsClassifier',\n",
       " 'N_Gram Range': [2, 2],\n",
       " 'Training Set Accuracy': 0.6822416837100355,\n",
       " 'Test Set Accuracy': 0.6795658329400661,\n",
       " 'Precision score: ': 0.9523424878836834,\n",
       " 'Recall score: ': 0.3734558124802027,\n",
       " 'f1 score: ': 0.5365187713310581,\n",
       " 'log loss': 11.067411466522174}"
      ]
     },
     "execution_count": 21,
     "metadata": {},
     "output_type": "execute_result"
    }
   ],
   "source": [
    "evaluation"
   ]
  },
  {
   "cell_type": "code",
   "execution_count": 22,
   "metadata": {},
   "outputs": [
    {
     "name": "stdout",
     "output_type": "stream",
     "text": [
      "              precision    recall  f1-score   support\n",
      "\n",
      "           0       0.61      0.98      0.76      3200\n",
      "           1       0.95      0.37      0.54      3157\n",
      "\n",
      "    accuracy                           0.68      6357\n",
      "   macro avg       0.78      0.68      0.65      6357\n",
      "weighted avg       0.78      0.68      0.65      6357\n",
      "\n"
     ]
    }
   ],
   "source": [
    "print(cls_report)"
   ]
  },
  {
   "cell_type": "code",
   "execution_count": 23,
   "metadata": {},
   "outputs": [
    {
     "data": {
      "image/png": "[encoded data removed]",
      "text/plain": [
       "<Figure size 324x216 with 2 Axes>"
      ]
     },
     "metadata": {
      "needs_background": "light"
     },
     "output_type": "display_data"
    },
    {
     "name": "stdout",
     "output_type": "stream",
     "text": [
      "None\n"
     ]
    },
    {
     "data": {
      "image/png": "[encoded data removed]",
      "text/plain": [
       "<Figure size 432x288 with 2 Axes>"
      ]
     },
     "metadata": {
      "needs_background": "light"
     },
     "output_type": "display_data"
    }
   ],
   "source": [
    "print(get_confusion_matrix(labels_test,predictions))"
   ]
  },
  {
   "cell_type": "code",
   "execution_count": 24,
   "metadata": {
    "colab": {},
    "colab_type": "code",
    "id": "hM3XkAhYR81e"
   },
   "outputs": [],
   "source": [
    "# # model = linear_model.LogisticRegression()\n",
    "# # model = MultinomialNB()\n",
    "# # model = svm.SVC()\n",
    "# # model = LinearSVC()\n",
    "# # model = KNeighborsClassifier(n_neighbors=2)\n",
    "# # model = RandomForestClassifier(n_estimators=200, random_state=0)\n",
    "# # model = XGBClassifier()\n",
    "# model = SGDClassifier()\n",
    "\n",
    "# model.fit(features_train, y_train)\n",
    "# predictions = model.predict(features_test)"
   ]
  },
  {
   "cell_type": "code",
   "execution_count": 26,
   "metadata": {
    "colab": {},
    "colab_type": "code",
    "id": "NFAEyBCyR81o"
   },
   "outputs": [],
   "source": [
    "# \"\"\"\n",
    "#     test for Adaboostclassifier in cv\n",
    "# \"\"\"\n",
    "# from sklearn.ensemble import AdaBoostClassifier\n",
    "# model = AdaBoostClassifier(algorithm='SAMME.R',n_estimators=50,learning_rate=1.0)\n",
    "# model.fit(features_train, y_train)\n",
    "# predictions = model.predict(features_test)"
   ]
  },
  {
   "cell_type": "code",
   "execution_count": 27,
   "metadata": {
    "colab": {},
    "colab_type": "code",
    "id": "29v-FDpbR81u"
   },
   "outputs": [],
   "source": [
    "# \"\"\"\n",
    "#     test for Baggingclassifier in cv\n",
    "# \"\"\"\n",
    "# from sklearn.svm import SVC\n",
    "# from sklearn.ensemble import BaggingClassifier\n",
    "# model = BaggingClassifier(base_estimator=None,n_estimators=50, random_state=0)\n",
    "# model.fit(features_train, y_train)\n",
    "# predictions = model.predict(features_test)"
   ]
  },
  {
   "cell_type": "code",
   "execution_count": 29,
   "metadata": {
    "colab": {},
    "colab_type": "code",
    "id": "KAzGVtCdR81_"
   },
   "outputs": [
    {
     "data": {
      "text/plain": [
       "'\\n    test for MultinomialNB() in cv\\n'"
      ]
     },
     "execution_count": 29,
     "metadata": {},
     "output_type": "execute_result"
    }
   ],
   "source": [
    "\"\"\"\n",
    "    test for MultinomialNB() in cv\n",
    "\"\"\"\n",
    "# model = MultinomialNB()\n",
    "# model =  model.fit(features_train, y_train)"
   ]
  },
  {
   "cell_type": "code",
   "execution_count": 30,
   "metadata": {
    "colab": {},
    "colab_type": "code",
    "id": "nlANd9ZGR82E"
   },
   "outputs": [
    {
     "data": {
      "text/plain": [
       "'\\n    GradientBoostingClassifier\\n'"
      ]
     },
     "execution_count": 30,
     "metadata": {},
     "output_type": "execute_result"
    }
   ],
   "source": [
    "\"\"\"\n",
    "    GradientBoostingClassifier\n",
    "\"\"\"\n",
    "# from sklearn.ensemble import GradientBoostingClassifier\n",
    "# gbc = GradientBoostingClassifier(n_estimators=10, random_state=42)\n",
    "# model =  gbc.fit(features_train, y_train)"
   ]
  },
  {
   "cell_type": "code",
   "execution_count": 31,
   "metadata": {
    "colab": {},
    "colab_type": "code",
    "id": "0ylvzOOKR82N"
   },
   "outputs": [
    {
     "name": "stdout",
     "output_type": "stream",
     "text": [
      "CV Accuracy (3-fold): [0.79936022 0.79689548 0.80271645]\n",
      "Mean CV Accuracy: 0.7996573845858025\n",
      "Test Accuracy: 1.0\n",
      "Accuracy:  0.6385087305332704\n"
     ]
    }
   ],
   "source": [
    "# import numpy as np\n",
    "# from sklearn.model_selection import cross_val_score\n",
    "# lr_tfidf_cv_scores = cross_val_score(model, features_train, y_train, cv=3)\n",
    "# lr_tfidf_cv_mean_score = np.mean(lr_tfidf_cv_scores)\n",
    "# print('CV Accuracy (3-fold):', lr_tfidf_cv_scores)\n",
    "# print('Mean CV Accuracy:', lr_tfidf_cv_mean_score)\n",
    "# lr_tfidf_test_score = model.score(features_train, y_train)\n",
    "# print('Test Accuracy:', lr_tfidf_test_score)\n",
    "# print('Accuracy: ',metrics.accuracy_score(labels_test, predictions))"
   ]
  },
  {
   "cell_type": "code",
   "execution_count": 33,
   "metadata": {
    "colab": {},
    "colab_type": "code",
    "id": "eu5Cx8gdR82Z"
   },
   "outputs": [
    {
     "data": {
      "text/html": [
       "<div>\n",
       "<style scoped>\n",
       "    .dataframe tbody tr th:only-of-type {\n",
       "        vertical-align: middle;\n",
       "    }\n",
       "\n",
       "    .dataframe tbody tr th {\n",
       "        vertical-align: top;\n",
       "    }\n",
       "\n",
       "    .dataframe thead th {\n",
       "        text-align: right;\n",
       "    }\n",
       "</style>\n",
       "<table border=\"1\" class=\"dataframe\">\n",
       "  <thead>\n",
       "    <tr style=\"text-align: right;\">\n",
       "      <th>col_0</th>\n",
       "      <th>0</th>\n",
       "      <th>1</th>\n",
       "    </tr>\n",
       "    <tr>\n",
       "      <th>Class</th>\n",
       "      <th></th>\n",
       "      <th></th>\n",
       "    </tr>\n",
       "  </thead>\n",
       "  <tbody>\n",
       "    <tr>\n",
       "      <th>0</th>\n",
       "      <td>3092</td>\n",
       "      <td>108</td>\n",
       "    </tr>\n",
       "    <tr>\n",
       "      <th>1</th>\n",
       "      <td>2190</td>\n",
       "      <td>967</td>\n",
       "    </tr>\n",
       "  </tbody>\n",
       "</table>\n",
       "</div>"
      ],
      "text/plain": [
       "col_0     0    1\n",
       "Class           \n",
       "0      3092  108\n",
       "1      2190  967"
      ]
     },
     "execution_count": 33,
     "metadata": {},
     "output_type": "execute_result"
    }
   ],
   "source": [
    "# pd.crosstab(y_valid , predictions)"
   ]
  },
  {
   "cell_type": "code",
   "execution_count": 35,
   "metadata": {
    "colab": {},
    "colab_type": "code",
    "id": "-1Q8NsL9R82i"
   },
   "outputs": [],
   "source": [
    "New_URL = pd.Series(['www.facebook.com'])"
   ]
  },
  {
   "cell_type": "code",
   "execution_count": 36,
   "metadata": {
    "colab": {},
    "colab_type": "code",
    "id": "RRyeFWBKR82p"
   },
   "outputs": [
    {
     "data": {
      "text/plain": [
       "0    www.facebook.com\n",
       "dtype: object"
      ]
     },
     "execution_count": 36,
     "metadata": {},
     "output_type": "execute_result"
    }
   ],
   "source": [
    "New_URL"
   ]
  },
  {
   "cell_type": "code",
   "execution_count": 37,
   "metadata": {
    "colab": {},
    "colab_type": "code",
    "id": "Wev0DB0vR82w"
   },
   "outputs": [],
   "source": [
    "predictions = model.predict(features_test)"
   ]
  },
  {
   "cell_type": "code",
   "execution_count": 38,
   "metadata": {
    "colab": {},
    "colab_type": "code",
    "id": "-MzPlaqVR822",
    "outputId": "c9caf7bc-8450-496b-9ca1-785232c77d64"
   },
   "outputs": [
    {
     "name": "stdout",
     "output_type": "stream",
     "text": [
      "Requirement already satisfied: xgboost in ./my_venv/lib/python3.7/site-packages (1.1.1)\n",
      "Requirement already satisfied: scipy in ./my_venv/lib/python3.7/site-packages (from xgboost) (1.4.1)\n",
      "Requirement already satisfied: numpy in ./my_venv/lib/python3.7/site-packages (from xgboost) (1.18.5)\n",
      "\u001b[33mWARNING: You are using pip version 20.1.1; however, version 20.2.1 is available.\n",
      "You should consider upgrading via the '/home/bjit/testing_work/my_venv/bin/python -m pip install --upgrade pip' command.\u001b[0m\n"
     ]
    }
   ],
   "source": [
    "import sys\n",
    "!{sys.executable} -m pip install xgboost"
   ]
  },
  {
   "cell_type": "code",
   "execution_count": null,
   "metadata": {
    "colab": {},
    "colab_type": "code",
    "id": "Rn5-Jhk2R828"
   },
   "outputs": [],
   "source": [
    "!pip install ipynb"
   ]
  }
 ],
 "metadata": {
  "colab": {
   "name": "Modified_final_updated_26_07_2020.ipynb",
   "provenance": []
  },
  "kernelspec": {
   "display_name": "my_venv",
   "language": "python",
   "name": "my_venv"
  },
  "language_info": {
   "codemirror_mode": {
    "name": "ipython",
    "version": 3
   },
   "file_extension": ".py",
   "mimetype": "text/x-python",
   "name": "python",
   "nbconvert_exporter": "python",
   "pygments_lexer": "ipython3",
   "version": "3.7.3"
  }
 },
 "nbformat": 4,
 "nbformat_minor": 1
}
