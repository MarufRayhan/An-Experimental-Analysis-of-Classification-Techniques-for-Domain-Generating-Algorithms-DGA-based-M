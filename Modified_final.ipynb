{
 "cells": [
  {
   "cell_type": "code",
   "execution_count": 1,
   "metadata": {},
   "outputs": [
    {
     "name": "stderr",
     "output_type": "stream",
     "text": [
      "[nltk_data] Downloading package punkt to /home/bjit/nltk_data...\n",
      "[nltk_data]   Package punkt is already up-to-date!\n"
     ]
    },
    {
     "data": {
      "text/plain": [
       "True"
      ]
     },
     "execution_count": 1,
     "metadata": {},
     "output_type": "execute_result"
    }
   ],
   "source": [
    "import pandas as pd\n",
    "import os\n",
    "import re\n",
    "import nltk\n",
    "from nltk.stem import PorterStemmer\n",
    "from sklearn.model_selection import train_test_split\n",
    "from sklearn.feature_extraction.text import TfidfVectorizer\n",
    "from sklearn.naive_bayes import MultinomialNB, BernoulliNB\n",
    "nltk.download('punkt')"
   ]
  },
  {
   "cell_type": "code",
   "execution_count": 2,
   "metadata": {},
   "outputs": [],
   "source": [
    "from sklearn import model_selection, preprocessing, linear_model, naive_bayes, metrics, svm\n",
    "from sklearn.svm import LinearSVC\n",
    "from sklearn.neighbors import KNeighborsClassifier\n",
    "from sklearn.ensemble import RandomForestClassifier\n",
    "from xgboost import XGBClassifier\n",
    "from sklearn.linear_model import SGDClassifier"
   ]
  },
  {
   "cell_type": "code",
   "execution_count": 3,
   "metadata": {},
   "outputs": [],
   "source": [
    "def get_ngrams(text,n):\n",
    "    text = re.split(r\"\\W+\",str(text))\n",
    "    text = \" \".join(text)\n",
    "    tokens = nltk.word_tokenize(text)\n",
    "    joined_text = \" \".join(tokens)\n",
    "    return joined_text"
   ]
  },
  {
   "cell_type": "code",
   "execution_count": 4,
   "metadata": {},
   "outputs": [],
   "source": [
    "def apply_cleaning_function_to_list(X):\n",
    "    cleaned_X = []\n",
    "    for element in X:\n",
    "        cleaned_X.append(get_ngrams(element,1))\n",
    "    return cleaned_X"
   ]
  },
  {
   "cell_type": "code",
   "execution_count": 5,
   "metadata": {},
   "outputs": [
    {
     "name": "stdout",
     "output_type": "stream",
     "text": [
      "                          URL                  Family  Class\n",
      "2919         abf09fc5abba.com   ccleaner_dga_a981e192      1\n",
      "37605          rqcalsyszy.net      vidro_dga_12d898e6      1\n",
      "36635          cxuxububcjs.ru    vawtrak_dga_d5950982      1\n",
      "56388  cheapnfljerseyssun.com                    Good      0\n",
      "8887              148e0f57.eu  ekforward_dga_f3dd2fca      1\n"
     ]
    }
   ],
   "source": [
    "my_file = pd.read_csv(\"/home/bjit/testing_work/final__csv.csv\")\n",
    "my_file = my_file.sample(frac=1)\n",
    "my_file['URL'] = my_file['URL'].str.lower()\n",
    "print(my_file.head())"
   ]
  },
  {
   "cell_type": "code",
   "execution_count": 6,
   "metadata": {},
   "outputs": [],
   "source": [
    "my_file['clean_url'] = apply_cleaning_function_to_list(my_file['URL'])"
   ]
  },
  {
   "cell_type": "code",
   "execution_count": 7,
   "metadata": {},
   "outputs": [
    {
     "data": {
      "text/plain": [
       "2919           abf09fc5abba com\n",
       "37605            rqcalsyszy net\n",
       "36635            cxuxububcjs ru\n",
       "56388    cheapnfljerseyssun com\n",
       "8887                148e0f57 eu\n",
       "                  ...          \n",
       "30152       tcicwjwwrgimwgwf ru\n",
       "79332    eurasiancommission org\n",
       "3928                  pscqh com\n",
       "75611                   open fm\n",
       "47890                   geni us\n",
       "Name: clean_url, Length: 79456, dtype: object"
      ]
     },
     "execution_count": 7,
     "metadata": {},
     "output_type": "execute_result"
    }
   ],
   "source": [
    "my_file['clean_url'] "
   ]
  },
  {
   "cell_type": "code",
   "execution_count": 8,
   "metadata": {},
   "outputs": [],
   "source": [
    "X_train, X_test, y_train, y_test = train_test_split(my_file['clean_url'], \n",
    "                                                    my_file['Class'], \n",
    "                                                    test_size=0.20,\n",
    "                                             stratify = my_file['Class'])"
   ]
  },
  {
   "cell_type": "code",
   "execution_count": 9,
   "metadata": {},
   "outputs": [],
   "source": [
    "X_train, X_valid, y_train, y_valid = train_test_split(X_train, \n",
    "                                                    y_train, \n",
    "                                                    test_size=0.10, stratify = y_train)"
   ]
  },
  {
   "cell_type": "code",
   "execution_count": 10,
   "metadata": {},
   "outputs": [
    {
     "data": {
      "text/plain": [
       "((57207,), (57207,))"
      ]
     },
     "execution_count": 10,
     "metadata": {},
     "output_type": "execute_result"
    }
   ],
   "source": [
    "y_train.shape, X_train.shape"
   ]
  },
  {
   "cell_type": "code",
   "execution_count": 11,
   "metadata": {},
   "outputs": [
    {
     "data": {
      "text/plain": [
       "array([1., 1., 1., ..., 1., 1., 1.])"
      ]
     },
     "execution_count": 11,
     "metadata": {},
     "output_type": "execute_result"
    }
   ],
   "source": [
    "tfidf = TfidfVectorizer(analyzer='word', token_pattern=r'\\w{1,}', ngram_range=(1,4), max_features=5000)\n",
    "# tfidf.fit(my_file['clean_url'])\n",
    "tfidf.fit(X_train)\n",
    "features_train =  tfidf.transform(X_train)\n",
    "labels_train = y_train\n",
    "\n",
    "features_test = tfidf.transform(X_valid)\n",
    "\n",
    "labels_test = y_valid\n",
    "# xvalid_tfidf =  tfidf_vect.transform(valid_x)\n",
    "features_test.data"
   ]
  },
  {
   "cell_type": "code",
   "execution_count": 12,
   "metadata": {},
   "outputs": [],
   "source": [
    "# # model = linear_model.LogisticRegression()\n",
    "# # model = MultinomialNB()\n",
    "# # model = svm.SVC()\n",
    "# # model = LinearSVC()\n",
    "# # model = KNeighborsClassifier(n_neighbors=2)\n",
    "# # model = RandomForestClassifier(n_estimators=200, random_state=0)\n",
    "# # model = XGBClassifier()\n",
    "# model = SGDClassifier()\n",
    "\n",
    "# model.fit(features_train, y_train)\n",
    "# predictions = model.predict(features_test)"
   ]
  },
  {
   "cell_type": "code",
   "execution_count": 13,
   "metadata": {},
   "outputs": [],
   "source": [
    "# \"\"\"\n",
    "#     test for LogisticRegression() in cv\n",
    "# \"\"\"\n",
    "# from sklearn.linear_model import LogisticRegression\n",
    "# model = LogisticRegression()\n",
    "# model.fit(features_train, y_train)\n",
    "# predictions = model.predict(features_test)"
   ]
  },
  {
   "cell_type": "code",
   "execution_count": 14,
   "metadata": {},
   "outputs": [],
   "source": [
    "# \"\"\"\n",
    "#     test for Adaboostclassifier in cv\n",
    "# \"\"\"\n",
    "# from sklearn.ensemble import AdaBoostClassifier\n",
    "# model = AdaBoostClassifier(algorithm='SAMME.R',n_estimators=50,learning_rate=1.0)\n",
    "# model.fit(features_train, y_train)\n",
    "# predictions = model.predict(features_test)"
   ]
  },
  {
   "cell_type": "code",
   "execution_count": 15,
   "metadata": {},
   "outputs": [],
   "source": [
    "# \"\"\"\n",
    "#     test for Baggingclassifier in cv\n",
    "# \"\"\"\n",
    "# from sklearn.svm import SVC\n",
    "# from sklearn.ensemble import BaggingClassifier\n",
    "# model = BaggingClassifier(base_estimator=None,n_estimators=50, random_state=0)\n",
    "# model.fit(features_train, y_train)\n",
    "# predictions = model.predict(features_test)"
   ]
  },
  {
   "cell_type": "code",
   "execution_count": 16,
   "metadata": {},
   "outputs": [],
   "source": [
    "# from sklearn.tree import DecisionTreeClassifier\n",
    "# model = DecisionTreeClassifier(criterion=\"gini\",random_state=0)\n",
    "# model.fit(features_train, y_train)\n",
    "# predictions = model.predict(features_test)"
   ]
  },
  {
   "cell_type": "code",
   "execution_count": 17,
   "metadata": {},
   "outputs": [
    {
     "data": {
      "text/plain": [
       "'\\n    test for MultinomialNB() in cv\\n'"
      ]
     },
     "execution_count": 17,
     "metadata": {},
     "output_type": "execute_result"
    }
   ],
   "source": [
    "\"\"\"\n",
    "    test for MultinomialNB() in cv\n",
    "\"\"\"\n",
    "# model = MultinomialNB()\n",
    "# model =  model.fit(features_train, y_train)"
   ]
  },
  {
   "cell_type": "code",
   "execution_count": 18,
   "metadata": {},
   "outputs": [
    {
     "data": {
      "text/plain": [
       "'\\n    GradientBoostingClassifier\\n'"
      ]
     },
     "execution_count": 18,
     "metadata": {},
     "output_type": "execute_result"
    }
   ],
   "source": [
    "\"\"\"\n",
    "    GradientBoostingClassifier\n",
    "\"\"\"\n",
    "# from sklearn.ensemble import GradientBoostingClassifier\n",
    "# gbc = GradientBoostingClassifier(n_estimators=10, random_state=42)\n",
    "# model =  gbc.fit(features_train, y_train)"
   ]
  },
  {
   "cell_type": "code",
   "execution_count": 19,
   "metadata": {},
   "outputs": [],
   "source": [
    "# classifier = create_model_architecture(features_train.shape[1])\n",
    "# accuracy = train_model(classifier,features_train, train_y, features_test, is_neural_net=True)"
   ]
  },
  {
   "cell_type": "code",
   "execution_count": 25,
   "metadata": {},
   "outputs": [],
   "source": [
    "import pickle\n",
    "with open('Pickles/features_train.pickle', 'wb') as output:\n",
    "    pickle.dump(features_train, output)\n",
    "with open('Pickles/labels_train.pickle', 'wb') as output:\n",
    "    pickle.dump(labels_train, output)\n",
    "with open('Pickles/features_test.pickle', 'wb') as output:\n",
    "    pickle.dump(features_test, output)\n",
    "with open('Pickles/labels_test.pickle', 'wb') as output:\n",
    "    pickle.dump(labels_test, output)"
   ]
  },
  {
   "cell_type": "code",
   "execution_count": 23,
   "metadata": {},
   "outputs": [],
   "source": [
    "path_features_train = \"Pickles/features_train.pickle\"\n",
    "with open(path_features_train, 'rb') as data:\n",
    "    features_train = pickle.load(data)"
   ]
  },
  {
   "cell_type": "code",
   "execution_count": 24,
   "metadata": {},
   "outputs": [
    {
     "data": {
      "text/plain": [
       "(57207, 5000)"
      ]
     },
     "execution_count": 24,
     "metadata": {},
     "output_type": "execute_result"
    }
   ],
   "source": [
    "features_train.shape"
   ]
  },
  {
   "cell_type": "code",
   "execution_count": 27,
   "metadata": {},
   "outputs": [
    {
     "name": "stdout",
     "output_type": "stream",
     "text": [
      "(6357, 5000)\n"
     ]
    }
   ],
   "source": [
    "with open('Pickles/features_test.pickle', 'wb') as output:\n",
    "    pickle.dump(features_test, output)\n",
    "    print(features_test.shape)"
   ]
  },
  {
   "cell_type": "code",
   "execution_count": null,
   "metadata": {},
   "outputs": [],
   "source": [
    "import numpy as np\n",
    "from sklearn.model_selection import cross_val_score\n",
    "import sklearn.metrics as metrics\n",
    "lr_tfidf_cv_scores = cross_val_score(model, features_train, y_train, cv=3)\n",
    "lr_tfidf_cv_mean_score = np.mean(lr_tfidf_cv_scores)\n",
    "print('CV Accuracy (3-fold):', lr_tfidf_cv_scores)\n",
    "print('Mean CV Accuracy:', lr_tfidf_cv_mean_score)\n",
    "lr_tfidf_test_score = model.score(features_train, y_train)\n",
    "print('Test Accuracy:', lr_tfidf_test_score)\n",
    "print('Accuracy: ',metrics.accuracy_score(labels_test, predictions))"
   ]
  },
  {
   "cell_type": "code",
   "execution_count": null,
   "metadata": {},
   "outputs": [],
   "source": [
    "from sklearn.metrics import accuracy_score, precision_score, recall_score,f1_score, classification_report\n",
    "print('Accuracy: ',accuracy_score(labels_test, predictions))\n",
    "print('Precision score: ', precision_score(y_valid, predictions))\n",
    "print('Recall score: ', recall_score(y_valid, predictions))\n",
    "print('f1 score: ',  f1_score(y_valid, predictions))"
   ]
  },
  {
   "cell_type": "code",
   "execution_count": null,
   "metadata": {},
   "outputs": [],
   "source": [
    "pd.crosstab(y_valid , predictions)"
   ]
  },
  {
   "cell_type": "code",
   "execution_count": null,
   "metadata": {},
   "outputs": [],
   "source": [
    "print(classification_report(y_valid, predictions))"
   ]
  },
  {
   "cell_type": "code",
   "execution_count": null,
   "metadata": {},
   "outputs": [],
   "source": [
    "New_URL = pd.Series(['www.facebook.com'])"
   ]
  },
  {
   "cell_type": "code",
   "execution_count": null,
   "metadata": {},
   "outputs": [],
   "source": [
    "New_URL"
   ]
  },
  {
   "cell_type": "code",
   "execution_count": null,
   "metadata": {},
   "outputs": [],
   "source": []
  },
  {
   "cell_type": "code",
   "execution_count": null,
   "metadata": {},
   "outputs": [],
   "source": []
  },
  {
   "cell_type": "code",
   "execution_count": null,
   "metadata": {},
   "outputs": [],
   "source": []
  },
  {
   "cell_type": "code",
   "execution_count": null,
   "metadata": {},
   "outputs": [],
   "source": []
  },
  {
   "cell_type": "code",
   "execution_count": null,
   "metadata": {},
   "outputs": [],
   "source": []
  },
  {
   "cell_type": "code",
   "execution_count": null,
   "metadata": {},
   "outputs": [],
   "source": []
  }
 ],
 "metadata": {
  "kernelspec": {
   "display_name": "my_venv",
   "language": "python",
   "name": "my_venv"
  },
  "language_info": {
   "codemirror_mode": {
    "name": "ipython",
    "version": 3
   },
   "file_extension": ".py",
   "mimetype": "text/x-python",
   "name": "python",
   "nbconvert_exporter": "python",
   "pygments_lexer": "ipython3",
   "version": "3.7.3"
  }
 },
 "nbformat": 4,
 "nbformat_minor": 2
}
